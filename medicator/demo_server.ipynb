{
 "cells": [
  {
   "cell_type": "code",
   "execution_count": 1,
   "metadata": {},
   "outputs": [
    {
     "name": "stdout",
     "output_type": "stream",
     "text": [
      "Collecting protobuf==3.20\n",
      "  Using cached protobuf-3.20.0-cp38-cp38-win_amd64.whl (904 kB)\n",
      "Installing collected packages: protobuf\n",
      "  Attempting uninstall: protobuf\n",
      "    Found existing installation: protobuf 4.25.1\n",
      "    Uninstalling protobuf-4.25.1:\n",
      "      Successfully uninstalled protobuf-4.25.1\n",
      "Successfully installed protobuf-3.20.0\n"
     ]
    },
    {
     "name": "stderr",
     "output_type": "stream",
     "text": [
      "WARNING: Ignoring invalid distribution - (c:\\users\\k0nv1ct\\appdata\\local\\packages\\pythonsoftwarefoundation.python.3.8_qbz5n2kfra8p0\\localcache\\local-packages\\python38\\site-packages)\n",
      "WARNING: Ignoring invalid distribution -rotobuf (c:\\users\\k0nv1ct\\appdata\\local\\packages\\pythonsoftwarefoundation.python.3.8_qbz5n2kfra8p0\\localcache\\local-packages\\python38\\site-packages)\n",
      "WARNING: Ignoring invalid distribution - (c:\\users\\k0nv1ct\\appdata\\local\\packages\\pythonsoftwarefoundation.python.3.8_qbz5n2kfra8p0\\localcache\\local-packages\\python38\\site-packages)\n",
      "WARNING: Ignoring invalid distribution -rotobuf (c:\\users\\k0nv1ct\\appdata\\local\\packages\\pythonsoftwarefoundation.python.3.8_qbz5n2kfra8p0\\localcache\\local-packages\\python38\\site-packages)\n",
      "WARNING: Ignoring invalid distribution - (c:\\users\\k0nv1ct\\appdata\\local\\packages\\pythonsoftwarefoundation.python.3.8_qbz5n2kfra8p0\\localcache\\local-packages\\python38\\site-packages)\n",
      "WARNING: Ignoring invalid distribution -rotobuf (c:\\users\\k0nv1ct\\appdata\\local\\packages\\pythonsoftwarefoundation.python.3.8_qbz5n2kfra8p0\\localcache\\local-packages\\python38\\site-packages)\n",
      "ERROR: pip's dependency resolver does not currently take into account all the packages that are installed. This behaviour is the source of the following dependency conflicts.\n",
      "google-api-core 2.14.0 requires protobuf!=3.20.0,!=3.20.1,!=4.21.0,!=4.21.1,!=4.21.2,!=4.21.3,!=4.21.4,!=4.21.5,<5.0.0.dev0,>=3.19.5, but you have protobuf 3.20.0 which is incompatible.\n",
      "google-cloud-aiplatform 1.36.4 requires protobuf!=3.20.0,!=3.20.1,!=4.21.0,!=4.21.1,!=4.21.2,!=4.21.3,!=4.21.4,!=4.21.5,<5.0.0dev,>=3.19.5, but you have protobuf 3.20.0 which is incompatible.\n",
      "google-cloud-bigquery 3.13.0 requires protobuf!=3.20.0,!=3.20.1,!=4.21.0,!=4.21.1,!=4.21.2,!=4.21.3,!=4.21.4,!=4.21.5,<5.0.0dev,>=3.19.5, but you have protobuf 3.20.0 which is incompatible.\n",
      "google-cloud-resource-manager 1.10.4 requires protobuf!=3.20.0,!=3.20.1,!=4.21.0,!=4.21.1,!=4.21.2,!=4.21.3,!=4.21.4,!=4.21.5,<5.0.0dev,>=3.19.5, but you have protobuf 3.20.0 which is incompatible.\n",
      "google-cloud-vision 3.4.5 requires protobuf!=3.20.0,!=3.20.1,!=4.21.0,!=4.21.1,!=4.21.2,!=4.21.3,!=4.21.4,!=4.21.5,<5.0.0dev,>=3.19.5, but you have protobuf 3.20.0 which is incompatible.\n",
      "googleapis-common-protos 1.61.0 requires protobuf!=3.20.0,!=3.20.1,!=4.21.1,!=4.21.2,!=4.21.3,!=4.21.4,!=4.21.5,<5.0.0.dev0,>=3.19.5, but you have protobuf 3.20.0 which is incompatible.\n",
      "grpc-google-iam-v1 0.12.7 requires protobuf!=3.20.0,!=3.20.1,!=4.21.1,!=4.21.2,!=4.21.3,!=4.21.4,!=4.21.5,<5.0.0dev,>=3.19.5, but you have protobuf 3.20.0 which is incompatible.\n",
      "grpcio-status 1.59.3 requires protobuf>=4.21.6, but you have protobuf 3.20.0 which is incompatible.\n",
      "tensorboard 2.10.1 requires protobuf<3.20,>=3.9.2, but you have protobuf 3.20.0 which is incompatible.\n",
      "tensorflow 2.10.0 requires protobuf<3.20,>=3.9.2, but you have protobuf 3.20.0 which is incompatible.\n",
      "tensorflow-gpu 2.10.0 requires protobuf<3.20,>=3.9.2, but you have protobuf 3.20.0 which is incompatible.\n",
      "WARNING: Ignoring invalid distribution - (c:\\users\\k0nv1ct\\appdata\\local\\packages\\pythonsoftwarefoundation.python.3.8_qbz5n2kfra8p0\\localcache\\local-packages\\python38\\site-packages)\n",
      "WARNING: Ignoring invalid distribution -rotobuf (c:\\users\\k0nv1ct\\appdata\\local\\packages\\pythonsoftwarefoundation.python.3.8_qbz5n2kfra8p0\\localcache\\local-packages\\python38\\site-packages)\n",
      "\n",
      "[notice] A new release of pip is available: 23.2.1 -> 23.3.1\n",
      "[notice] To update, run: C:\\Users\\k0nv1ct\\AppData\\Local\\Microsoft\\WindowsApps\\PythonSoftwareFoundation.Python.3.8_qbz5n2kfra8p0\\python.exe -m pip install --upgrade pip\n"
     ]
    }
   ],
   "source": [
    "!pip install protobuf==3.20"
   ]
  },
  {
   "cell_type": "code",
   "execution_count": 3,
   "metadata": {},
   "outputs": [
    {
     "name": "stdout",
     "output_type": "stream",
     "text": [
      "Requirement already satisfied: google-cloud in c:\\users\\k0nv1ct\\appdata\\local\\packages\\pythonsoftwarefoundation.python.3.8_qbz5n2kfra8p0\\localcache\\local-packages\\python38\\site-packages (0.34.0)\n"
     ]
    },
    {
     "name": "stderr",
     "output_type": "stream",
     "text": [
      "WARNING: Ignoring invalid distribution - (c:\\users\\k0nv1ct\\appdata\\local\\packages\\pythonsoftwarefoundation.python.3.8_qbz5n2kfra8p0\\localcache\\local-packages\\python38\\site-packages)\n",
      "WARNING: Ignoring invalid distribution -rotobuf (c:\\users\\k0nv1ct\\appdata\\local\\packages\\pythonsoftwarefoundation.python.3.8_qbz5n2kfra8p0\\localcache\\local-packages\\python38\\site-packages)\n",
      "WARNING: Ignoring invalid distribution - (c:\\users\\k0nv1ct\\appdata\\local\\packages\\pythonsoftwarefoundation.python.3.8_qbz5n2kfra8p0\\localcache\\local-packages\\python38\\site-packages)\n",
      "WARNING: Ignoring invalid distribution -rotobuf (c:\\users\\k0nv1ct\\appdata\\local\\packages\\pythonsoftwarefoundation.python.3.8_qbz5n2kfra8p0\\localcache\\local-packages\\python38\\site-packages)\n",
      "WARNING: Ignoring invalid distribution - (c:\\users\\k0nv1ct\\appdata\\local\\packages\\pythonsoftwarefoundation.python.3.8_qbz5n2kfra8p0\\localcache\\local-packages\\python38\\site-packages)\n",
      "WARNING: Ignoring invalid distribution -rotobuf (c:\\users\\k0nv1ct\\appdata\\local\\packages\\pythonsoftwarefoundation.python.3.8_qbz5n2kfra8p0\\localcache\\local-packages\\python38\\site-packages)\n",
      "WARNING: Ignoring invalid distribution - (c:\\users\\k0nv1ct\\appdata\\local\\packages\\pythonsoftwarefoundation.python.3.8_qbz5n2kfra8p0\\localcache\\local-packages\\python38\\site-packages)\n",
      "WARNING: Ignoring invalid distribution -rotobuf (c:\\users\\k0nv1ct\\appdata\\local\\packages\\pythonsoftwarefoundation.python.3.8_qbz5n2kfra8p0\\localcache\\local-packages\\python38\\site-packages)\n",
      "\n",
      "[notice] A new release of pip is available: 23.2.1 -> 23.3.1\n",
      "[notice] To update, run: C:\\Users\\k0nv1ct\\AppData\\Local\\Microsoft\\WindowsApps\\PythonSoftwareFoundation.Python.3.8_qbz5n2kfra8p0\\python.exe -m pip install --upgrade pip\n"
     ]
    }
   ],
   "source": [
    "!pip install google-cloud\n"
   ]
  },
  {
   "cell_type": "code",
   "execution_count": 4,
   "metadata": {},
   "outputs": [
    {
     "name": "stdout",
     "output_type": "stream",
     "text": [
      "Requirement already satisfied: google-cloud-vision in c:\\users\\k0nv1ct\\appdata\\local\\packages\\pythonsoftwarefoundation.python.3.8_qbz5n2kfra8p0\\localcache\\local-packages\\python38\\site-packages (3.4.5)\n",
      "Requirement already satisfied: google-api-core[grpc]!=2.0.*,!=2.1.*,!=2.10.*,!=2.2.*,!=2.3.*,!=2.4.*,!=2.5.*,!=2.6.*,!=2.7.*,!=2.8.*,!=2.9.*,<3.0.0dev,>=1.34.0 in c:\\users\\k0nv1ct\\appdata\\local\\packages\\pythonsoftwarefoundation.python.3.8_qbz5n2kfra8p0\\localcache\\local-packages\\python38\\site-packages (from google-cloud-vision) (2.14.0)\n",
      "Requirement already satisfied: proto-plus<2.0.0dev,>=1.22.0 in c:\\users\\k0nv1ct\\appdata\\local\\packages\\pythonsoftwarefoundation.python.3.8_qbz5n2kfra8p0\\localcache\\local-packages\\python38\\site-packages (from google-cloud-vision) (1.22.3)\n",
      "Collecting protobuf!=3.20.0,!=3.20.1,!=4.21.0,!=4.21.1,!=4.21.2,!=4.21.3,!=4.21.4,!=4.21.5,<5.0.0dev,>=3.19.5 (from google-cloud-vision)\n",
      "  Obtaining dependency information for protobuf!=3.20.0,!=3.20.1,!=4.21.0,!=4.21.1,!=4.21.2,!=4.21.3,!=4.21.4,!=4.21.5,<5.0.0dev,>=3.19.5 from https://files.pythonhosted.org/packages/dd/13/f8262eac2f44b643794d3783108ccefc8f87ef3929da45c474277a6e0e95/protobuf-4.25.1-cp38-cp38-win_amd64.whl.metadata\n",
      "  Using cached protobuf-4.25.1-cp38-cp38-win_amd64.whl.metadata (541 bytes)\n",
      "Requirement already satisfied: googleapis-common-protos<2.0.dev0,>=1.56.2 in c:\\users\\k0nv1ct\\appdata\\local\\packages\\pythonsoftwarefoundation.python.3.8_qbz5n2kfra8p0\\localcache\\local-packages\\python38\\site-packages (from google-api-core[grpc]!=2.0.*,!=2.1.*,!=2.10.*,!=2.2.*,!=2.3.*,!=2.4.*,!=2.5.*,!=2.6.*,!=2.7.*,!=2.8.*,!=2.9.*,<3.0.0dev,>=1.34.0->google-cloud-vision) (1.61.0)\n",
      "Requirement already satisfied: google-auth<3.0.dev0,>=2.14.1 in c:\\users\\k0nv1ct\\appdata\\local\\packages\\pythonsoftwarefoundation.python.3.8_qbz5n2kfra8p0\\localcache\\local-packages\\python38\\site-packages (from google-api-core[grpc]!=2.0.*,!=2.1.*,!=2.10.*,!=2.2.*,!=2.3.*,!=2.4.*,!=2.5.*,!=2.6.*,!=2.7.*,!=2.8.*,!=2.9.*,<3.0.0dev,>=1.34.0->google-cloud-vision) (2.23.4)\n",
      "Requirement already satisfied: requests<3.0.0.dev0,>=2.18.0 in c:\\users\\k0nv1ct\\appdata\\local\\packages\\pythonsoftwarefoundation.python.3.8_qbz5n2kfra8p0\\localcache\\local-packages\\python38\\site-packages (from google-api-core[grpc]!=2.0.*,!=2.1.*,!=2.10.*,!=2.2.*,!=2.3.*,!=2.4.*,!=2.5.*,!=2.6.*,!=2.7.*,!=2.8.*,!=2.9.*,<3.0.0dev,>=1.34.0->google-cloud-vision) (2.31.0)\n",
      "Requirement already satisfied: grpcio<2.0dev,>=1.33.2 in c:\\users\\k0nv1ct\\appdata\\local\\packages\\pythonsoftwarefoundation.python.3.8_qbz5n2kfra8p0\\localcache\\local-packages\\python38\\site-packages (from google-api-core[grpc]!=2.0.*,!=2.1.*,!=2.10.*,!=2.2.*,!=2.3.*,!=2.4.*,!=2.5.*,!=2.6.*,!=2.7.*,!=2.8.*,!=2.9.*,<3.0.0dev,>=1.34.0->google-cloud-vision) (1.59.3)\n",
      "Requirement already satisfied: grpcio-status<2.0.dev0,>=1.33.2 in c:\\users\\k0nv1ct\\appdata\\local\\packages\\pythonsoftwarefoundation.python.3.8_qbz5n2kfra8p0\\localcache\\local-packages\\python38\\site-packages (from google-api-core[grpc]!=2.0.*,!=2.1.*,!=2.10.*,!=2.2.*,!=2.3.*,!=2.4.*,!=2.5.*,!=2.6.*,!=2.7.*,!=2.8.*,!=2.9.*,<3.0.0dev,>=1.34.0->google-cloud-vision) (1.59.3)\n",
      "Requirement already satisfied: cachetools<6.0,>=2.0.0 in c:\\users\\k0nv1ct\\appdata\\local\\packages\\pythonsoftwarefoundation.python.3.8_qbz5n2kfra8p0\\localcache\\local-packages\\python38\\site-packages (from google-auth<3.0.dev0,>=2.14.1->google-api-core[grpc]!=2.0.*,!=2.1.*,!=2.10.*,!=2.2.*,!=2.3.*,!=2.4.*,!=2.5.*,!=2.6.*,!=2.7.*,!=2.8.*,!=2.9.*,<3.0.0dev,>=1.34.0->google-cloud-vision) (5.3.1)\n",
      "Requirement already satisfied: pyasn1-modules>=0.2.1 in c:\\users\\k0nv1ct\\appdata\\local\\packages\\pythonsoftwarefoundation.python.3.8_qbz5n2kfra8p0\\localcache\\local-packages\\python38\\site-packages (from google-auth<3.0.dev0,>=2.14.1->google-api-core[grpc]!=2.0.*,!=2.1.*,!=2.10.*,!=2.2.*,!=2.3.*,!=2.4.*,!=2.5.*,!=2.6.*,!=2.7.*,!=2.8.*,!=2.9.*,<3.0.0dev,>=1.34.0->google-cloud-vision) (0.3.0)\n",
      "Requirement already satisfied: rsa<5,>=3.1.4 in c:\\users\\k0nv1ct\\appdata\\local\\packages\\pythonsoftwarefoundation.python.3.8_qbz5n2kfra8p0\\localcache\\local-packages\\python38\\site-packages (from google-auth<3.0.dev0,>=2.14.1->google-api-core[grpc]!=2.0.*,!=2.1.*,!=2.10.*,!=2.2.*,!=2.3.*,!=2.4.*,!=2.5.*,!=2.6.*,!=2.7.*,!=2.8.*,!=2.9.*,<3.0.0dev,>=1.34.0->google-cloud-vision) (4.9)\n",
      "Requirement already satisfied: charset-normalizer<4,>=2 in c:\\users\\k0nv1ct\\appdata\\local\\packages\\pythonsoftwarefoundation.python.3.8_qbz5n2kfra8p0\\localcache\\local-packages\\python38\\site-packages (from requests<3.0.0.dev0,>=2.18.0->google-api-core[grpc]!=2.0.*,!=2.1.*,!=2.10.*,!=2.2.*,!=2.3.*,!=2.4.*,!=2.5.*,!=2.6.*,!=2.7.*,!=2.8.*,!=2.9.*,<3.0.0dev,>=1.34.0->google-cloud-vision) (3.2.0)\n",
      "Requirement already satisfied: idna<4,>=2.5 in c:\\users\\k0nv1ct\\appdata\\local\\packages\\pythonsoftwarefoundation.python.3.8_qbz5n2kfra8p0\\localcache\\local-packages\\python38\\site-packages (from requests<3.0.0.dev0,>=2.18.0->google-api-core[grpc]!=2.0.*,!=2.1.*,!=2.10.*,!=2.2.*,!=2.3.*,!=2.4.*,!=2.5.*,!=2.6.*,!=2.7.*,!=2.8.*,!=2.9.*,<3.0.0dev,>=1.34.0->google-cloud-vision) (3.4)\n",
      "Requirement already satisfied: urllib3<3,>=1.21.1 in c:\\users\\k0nv1ct\\appdata\\local\\packages\\pythonsoftwarefoundation.python.3.8_qbz5n2kfra8p0\\localcache\\local-packages\\python38\\site-packages (from requests<3.0.0.dev0,>=2.18.0->google-api-core[grpc]!=2.0.*,!=2.1.*,!=2.10.*,!=2.2.*,!=2.3.*,!=2.4.*,!=2.5.*,!=2.6.*,!=2.7.*,!=2.8.*,!=2.9.*,<3.0.0dev,>=1.34.0->google-cloud-vision) (1.26.16)\n",
      "Requirement already satisfied: certifi>=2017.4.17 in c:\\users\\k0nv1ct\\appdata\\local\\packages\\pythonsoftwarefoundation.python.3.8_qbz5n2kfra8p0\\localcache\\local-packages\\python38\\site-packages (from requests<3.0.0.dev0,>=2.18.0->google-api-core[grpc]!=2.0.*,!=2.1.*,!=2.10.*,!=2.2.*,!=2.3.*,!=2.4.*,!=2.5.*,!=2.6.*,!=2.7.*,!=2.8.*,!=2.9.*,<3.0.0dev,>=1.34.0->google-cloud-vision) (2023.5.7)\n",
      "Requirement already satisfied: pyasn1<0.6.0,>=0.4.6 in c:\\users\\k0nv1ct\\appdata\\local\\packages\\pythonsoftwarefoundation.python.3.8_qbz5n2kfra8p0\\localcache\\local-packages\\python38\\site-packages (from pyasn1-modules>=0.2.1->google-auth<3.0.dev0,>=2.14.1->google-api-core[grpc]!=2.0.*,!=2.1.*,!=2.10.*,!=2.2.*,!=2.3.*,!=2.4.*,!=2.5.*,!=2.6.*,!=2.7.*,!=2.8.*,!=2.9.*,<3.0.0dev,>=1.34.0->google-cloud-vision) (0.5.0)\n",
      "Using cached protobuf-4.25.1-cp38-cp38-win_amd64.whl (413 kB)\n",
      "Installing collected packages: protobuf\n",
      "  Attempting uninstall: protobuf\n",
      "    Found existing installation: protobuf 3.20.0\n",
      "    Uninstalling protobuf-3.20.0:\n",
      "      Successfully uninstalled protobuf-3.20.0\n"
     ]
    },
    {
     "name": "stderr",
     "output_type": "stream",
     "text": [
      "WARNING: Ignoring invalid distribution - (c:\\users\\k0nv1ct\\appdata\\local\\packages\\pythonsoftwarefoundation.python.3.8_qbz5n2kfra8p0\\localcache\\local-packages\\python38\\site-packages)\n",
      "WARNING: Ignoring invalid distribution -rotobuf (c:\\users\\k0nv1ct\\appdata\\local\\packages\\pythonsoftwarefoundation.python.3.8_qbz5n2kfra8p0\\localcache\\local-packages\\python38\\site-packages)\n",
      "WARNING: Ignoring invalid distribution - (c:\\users\\k0nv1ct\\appdata\\local\\packages\\pythonsoftwarefoundation.python.3.8_qbz5n2kfra8p0\\localcache\\local-packages\\python38\\site-packages)\n",
      "WARNING: Ignoring invalid distribution -rotobuf (c:\\users\\k0nv1ct\\appdata\\local\\packages\\pythonsoftwarefoundation.python.3.8_qbz5n2kfra8p0\\localcache\\local-packages\\python38\\site-packages)\n",
      "WARNING: Ignoring invalid distribution - (c:\\users\\k0nv1ct\\appdata\\local\\packages\\pythonsoftwarefoundation.python.3.8_qbz5n2kfra8p0\\localcache\\local-packages\\python38\\site-packages)\n",
      "WARNING: Ignoring invalid distribution -rotobuf (c:\\users\\k0nv1ct\\appdata\\local\\packages\\pythonsoftwarefoundation.python.3.8_qbz5n2kfra8p0\\localcache\\local-packages\\python38\\site-packages)\n",
      "ERROR: Could not install packages due to an OSError: [WinError 5] Access is denied: 'C:\\\\Users\\\\k0nv1ct\\\\AppData\\\\Local\\\\Packages\\\\PythonSoftwareFoundation.Python.3.8_qbz5n2kfra8p0\\\\LocalCache\\\\local-packages\\\\Python38\\\\site-packages\\\\google\\\\~=otobuf\\\\internal\\\\_api_implementation.cp38-win_amd64.pyd'\n",
      "Check the permissions.\n",
      "\n",
      "WARNING: Ignoring invalid distribution - (c:\\users\\k0nv1ct\\appdata\\local\\packages\\pythonsoftwarefoundation.python.3.8_qbz5n2kfra8p0\\localcache\\local-packages\\python38\\site-packages)\n",
      "WARNING: Ignoring invalid distribution -rotobuf (c:\\users\\k0nv1ct\\appdata\\local\\packages\\pythonsoftwarefoundation.python.3.8_qbz5n2kfra8p0\\localcache\\local-packages\\python38\\site-packages)\n",
      "\n",
      "[notice] A new release of pip is available: 23.2.1 -> 23.3.1\n",
      "[notice] To update, run: C:\\Users\\k0nv1ct\\AppData\\Local\\Microsoft\\WindowsApps\\PythonSoftwareFoundation.Python.3.8_qbz5n2kfra8p0\\python.exe -m pip install --upgrade pip\n"
     ]
    }
   ],
   "source": [
    "!pip install google-cloud-vision"
   ]
  },
  {
   "cell_type": "code",
   "execution_count": 5,
   "metadata": {},
   "outputs": [],
   "source": [
    "from importlib.resources import path\n",
    "import os,io\n",
    "from google.cloud import vision\n",
    "from google.cloud import vision_v1\n",
    "from google.cloud.vision_v1 import types\n",
    "import pandas as pd"
   ]
  },
  {
   "cell_type": "code",
   "execution_count": 2,
   "metadata": {},
   "outputs": [],
   "source": [
    "from google.cloud import aiplatform\n",
    "import vertexai\n",
    "from vertexai.language_models import ChatModel, InputOutputTextPair\n",
    "from vertexai.preview.language_models import TextGenerationModel"
   ]
  },
  {
   "cell_type": "code",
   "execution_count": 6,
   "metadata": {},
   "outputs": [
    {
     "name": "stderr",
     "output_type": "stream",
     "text": [
      "Your browser has been opened to visit:\n",
      "\n",
      "    https://accounts.google.com/o/oauth2/auth?response_type=code&client_id=764086051850-6qr4p6gpi6hn506pt8ejuq83di341hur.apps.googleusercontent.com&redirect_uri=http%3A%2F%2Flocalhost%3A8085%2F&scope=openid+https%3A%2F%2Fwww.googleapis.com%2Fauth%2Fuserinfo.email+https%3A%2F%2Fwww.googleapis.com%2Fauth%2Fcloud-platform+https%3A%2F%2Fwww.googleapis.com%2Fauth%2Fsqlservice.login&state=cWJ5ZuLMcYKmUZgvjfzpo3DzHoeIAD&access_type=offline&code_challenge=8ycOcMe5BZiWR0AS7cdJvElS6pbcUNv21yo1W-v2Hno&code_challenge_method=S256\n",
      "\n",
      "\n",
      "Credentials saved to file: [C:\\Users\\k0nv1ct\\AppData\\Roaming\\gcloud\\application_default_credentials.json]\n",
      "\n",
      "These credentials will be used by any library that requests Application Default Credentials (ADC).\n",
      "WARNING: \n",
      "Cannot add the project \"sixth-well-396917\" to ADC as the quota project because the account in ADC does not have the \"serviceusage.services.use\" permission on this project. You might receive a \"quota_exceeded\" or \"API not enabled\" error. Run $ gcloud auth application-default set-quota-project to add a quota project.\n"
     ]
    }
   ],
   "source": [
    "!gcloud auth application-default login\n"
   ]
  },
  {
   "cell_type": "code",
   "execution_count": 7,
   "metadata": {},
   "outputs": [
    {
     "name": "stderr",
     "output_type": "stream",
     "text": [
      "\n",
      "Credentials saved to file: [C:\\Users\\k0nv1ct\\AppData\\Roaming\\gcloud\\application_default_credentials.json]\n",
      "\n",
      "These credentials will be used by any library that requests Application Default Credentials (ADC).\n",
      "\n",
      "Quota project \"hcl-chat-001\" was added to ADC which can be used by Google client libraries for billing and quota. Note that some services may still bill the project owning the resource.\n"
     ]
    }
   ],
   "source": [
    "!gcloud auth application-default set-quota-project hcl-chat-001"
   ]
  },
  {
   "cell_type": "code",
   "execution_count": 8,
   "metadata": {},
   "outputs": [],
   "source": [
    "project_id = 'hcl-chat-001'\n",
    "location_id = 'us-central1'"
   ]
  },
  {
   "cell_type": "code",
   "execution_count": 9,
   "metadata": {},
   "outputs": [],
   "source": [
    "from google.oauth2 import service_account\n",
    "import google.auth.transport.requests\n",
    "import requests\n",
    "import json\n",
    "\n",
    "# Path to your service account key file\n",
    "KEY_FILE = 'hcl-chat-001-60f364fc1dbb.json'\n",
    "\n",
    "# Load the credentials from the service account key file\n",
    "creds = service_account.Credentials.from_service_account_file(\n",
    "    KEY_FILE,\n",
    "    scopes=['https://www.googleapis.com/auth/cloud-platform']\n",
    ")\n",
    "\n",
    "# Create an HTTP authorized client using the credentials\n",
    "auth_request = google.auth.transport.requests.Request()\n",
    "creds.refresh(auth_request)"
   ]
  },
  {
   "cell_type": "code",
   "execution_count": 10,
   "metadata": {},
   "outputs": [],
   "source": [
    "def chat_bot(message, temperature: float = 0.6) -> None:\n",
    "    chat_model = ChatModel.from_pretrained(\"chat-bison\")\n",
    "\n",
    "\n",
    "\n",
    "    # TODO developer - override these parameters as needed:\n",
    "    parameters = {\n",
    "        \"temperature\": temperature,  \n",
    "        \"max_output_tokens\": 256,  \n",
    "        \"top_p\": 0.95,  \n",
    "        \"top_k\": 40,  \n",
    "    }\n",
    "\n",
    "    chat = chat_model.start_chat(\n",
    "        context=\"you are an experienced doctor and pharmaceutical expert with more than 50 years of experience and extensive knowledge in medicine, diagnosis, and pharmaceuticals. He provides accurate medical advice, drug information, and healthcare tips.\",\n",
    "        examples=[\n",
    "            InputOutputTextPair(\n",
    "                input_text=\"what are the best medications to treat high fever and body pain?\",\n",
    "                output_text=\"\"\"For treating high fever and body pain, over-the-counter (OTC) medications are commonly used. Here are some of the best options:\n",
    "\n",
    "Acetaminophen (Tylenol): This medication is effective in reducing fever and relieving pain. It's a good choice if you're experiencing both symptoms. It's generally safe when used as directed, but it's important to avoid exceeding the recommended dosage to prevent liver damage.\n",
    "\n",
    "Ibuprofen (Advil, Motrin): Ibuprofen is a nonsteroidal anti-inflammatory drug (NSAID) that can help reduce fever and alleviate pain. It's also effective in reducing inflammation, which can be beneficial if your body pain is due to inflammation.\n",
    "\n",
    "Naproxen (Aleve): Another NSAID, naproxen, is longer-lasting than ibuprofen and can be effective for fever and pain relief. It's especially useful for ongoing pain relief due to its longer duration of action.\n",
    "\n",
    "Aspirin: Aspirin can reduce fever and alleviate pain but is generally not recommended for children or teenagers with viral infections due to the risk of Reye's syndrome.\"\"\",\n",
    "            ),\n",
    "            InputOutputTextPair(\n",
    "                input_text=\"what are the medication that can help during jaundice?\",\n",
    "                output_text=\"\"\"For jaundice, treatment often focuses on addressing the underlying cause rather than the jaundice itself. Medications can vary depending on whether the jaundice is due to liver disease, infections, or other factors. Common treatments include antiviral or antibiotic medications for infections, corticosteroids for certain liver diseases, and ursodeoxycholic acid for bile duct obstruction. It's crucial to consult a healthcare professional for a precise diagnosis and appropriate treatment plan. Avoid self-medicating, as the wrong treatment can worsen the condition.\"\"\",\n",
    "            ),\n",
    "            InputOutputTextPair(\n",
    "                input_text=\"what are the medications that can help against viral fever\",\n",
    "                output_text=\"\"\"For viral fevers, the primary goal is to manage symptoms, as antibiotics are ineffective against viruses. Here are some common medications used:\n",
    "\n",
    "Acetaminophen (Tylenol): Helps reduce fever and alleviate pain. It's safe for most people when used as directed.\n",
    "\n",
    "Ibuprofen (Advil, Motrin): An NSAID that reduces fever and helps with pain and inflammation. It should be used with caution in individuals with certain health conditions like stomach ulcers or kidney disease.\n",
    "\n",
    "Naproxen (Aleve): Another NSAID effective in reducing fever and pain, with longer-lasting effects compared to ibuprofen.\n",
    "\n",
    "Rest and Hydration: While not medications, rest and staying well-hydrated are crucial in helping the body fight off viral infections.\n",
    "\n",
    "Antiviral Medications: In some cases, especially with specific viral infections like influenza, antiviral drugs such as oseltamivir (Tamiflu) might be prescribed.\n",
    "\n",
    "Remember, it's always important to consult with a healthcare provider for an accurate diagnosis and appropriate treatment plan, especially if the fever is high, persistent, or accompanied by other severe symptoms.\"\"\",\n",
    "            ),\n",
    "        ],\n",
    "    )\n",
    "\n",
    "    response = chat.send_message(\n",
    "        message, **parameters\n",
    "    )\n",
    "    print(f\"Response from Model: {response.text}\")\n",
    "\n",
    "    return response.text"
   ]
  },
  {
   "cell_type": "code",
   "execution_count": 11,
   "metadata": {},
   "outputs": [],
   "source": [
    "client = vision.ImageAnnotatorClient()"
   ]
  },
  {
   "cell_type": "code",
   "execution_count": 12,
   "metadata": {},
   "outputs": [],
   "source": [
    "def detectText(img):\n",
    "    with io.open (img, 'rb') as image_file:\n",
    "        content = image_file.read()\n",
    "\n",
    "    image=vision_v1.types.Image(content= content)\n",
    "    response = client.text_detection(image=image)\n",
    "    texts = response.text_annotations\n",
    "\n",
    "    df = pd.DataFrame(columns=['locale','description'])\n",
    "    for text in texts:\n",
    "        df = df.append(\n",
    "            dict(\n",
    "                locale = text.locale,\n",
    "                description = text.description\n",
    "            ),\n",
    "            ignore_index=True\n",
    "        )\n",
    "    return df.iloc[0, 1]"
   ]
  },
  {
   "cell_type": "code",
   "execution_count": 13,
   "metadata": {},
   "outputs": [],
   "source": [
    "aiplatform.init(project=project_id,location=location_id)"
   ]
  },
  {
   "cell_type": "code",
   "execution_count": 14,
   "metadata": {},
   "outputs": [],
   "source": [
    "# if __name__ == \"__main__\":\n",
    "#     chat_bot()"
   ]
  },
  {
   "cell_type": "code",
   "execution_count": 15,
   "metadata": {},
   "outputs": [
    {
     "name": "stdout",
     "output_type": "stream",
     "text": [
      " * Serving Flask app '__main__'\n",
      " * Debug mode: off\n"
     ]
    },
    {
     "name": "stderr",
     "output_type": "stream",
     "text": [
      "WARNING: This is a development server. Do not use it in a production deployment. Use a production WSGI server instead.\n",
      " * Running on http://127.0.0.1:5000\n",
      "Press CTRL+C to quit\n"
     ]
    },
    {
     "name": "stdout",
     "output_type": "stream",
     "text": [
      "{'text': 'C:\\\\Users\\\\k0nv1ct\\\\source\\\\repos\\\\hcl-medicator\\\\hcl-medicator\\\\App_Data\\\\uploads\\\\sample-2.jpg', 'func': 'image'}\n",
      "C:\\Users\\k0nv1ct\\source\\repos\\hcl-medicator\\hcl-medicator\\App_Data\\uploads\\sample-2.jpg\n",
      "image\n"
     ]
    },
    {
     "name": "stderr",
     "output_type": "stream",
     "text": [
      "C:\\Users\\k0nv1ct\\AppData\\Local\\Temp\\ipykernel_5448\\4229818786.py:11: FutureWarning: The frame.append method is deprecated and will be removed from pandas in a future version. Use pandas.concat instead.\n",
      "  df = df.append(\n",
      "C:\\Users\\k0nv1ct\\AppData\\Local\\Temp\\ipykernel_5448\\4229818786.py:11: FutureWarning: The frame.append method is deprecated and will be removed from pandas in a future version. Use pandas.concat instead.\n",
      "  df = df.append(\n",
      "C:\\Users\\k0nv1ct\\AppData\\Local\\Temp\\ipykernel_5448\\4229818786.py:11: FutureWarning: The frame.append method is deprecated and will be removed from pandas in a future version. Use pandas.concat instead.\n",
      "  df = df.append(\n",
      "C:\\Users\\k0nv1ct\\AppData\\Local\\Temp\\ipykernel_5448\\4229818786.py:11: FutureWarning: The frame.append method is deprecated and will be removed from pandas in a future version. Use pandas.concat instead.\n",
      "  df = df.append(\n",
      "C:\\Users\\k0nv1ct\\AppData\\Local\\Temp\\ipykernel_5448\\4229818786.py:11: FutureWarning: The frame.append method is deprecated and will be removed from pandas in a future version. Use pandas.concat instead.\n",
      "  df = df.append(\n",
      "C:\\Users\\k0nv1ct\\AppData\\Local\\Temp\\ipykernel_5448\\4229818786.py:11: FutureWarning: The frame.append method is deprecated and will be removed from pandas in a future version. Use pandas.concat instead.\n",
      "  df = df.append(\n",
      "127.0.0.1 - - [04/Dec/2023 12:10:38] \"POST /process HTTP/1.1\" 200 -\n"
     ]
    },
    {
     "name": "stdout",
     "output_type": "stream",
     "text": [
      "Asprin, paracetamol, Calpol\n",
      "{'text': 'what are the best medications used against common cold?', 'func': 'chat'}\n",
      "what are the best medications used against common cold?\n",
      "chat\n"
     ]
    },
    {
     "name": "stderr",
     "output_type": "stream",
     "text": [
      "127.0.0.1 - - [04/Dec/2023 12:13:22] \"POST /process HTTP/1.1\" 200 -\n"
     ]
    },
    {
     "name": "stdout",
     "output_type": "stream",
     "text": [
      "Response from Model:  Here are some common medications used against the common cold: \n",
      "\n",
      "Over-the-counter (OTC) pain relievers and fever reducers, such as acetaminophen (Tylenol) or ibuprofen (Advil, Motrin). These medications can help relieve symptoms like headache, muscle aches, and fever.\n",
      "Decongestants, such as pseudoephedrine (Sudafed) or phenylephrine (Sudafed PE). These medications can help reduce nasal congestion and relieve sinus pressure.\n",
      "Antihistamines, such as diphenhydramine (Benadryl) or loratadine (Claritin). These medications can help relieve sneezing, runny nose, and itchy eyes.\n",
      "Cough suppressants, such as dextromethorphan (Robitussin) or codeine. These medications can help suppress coughing.\n",
      "Expectorants, such as guaifenesin (Mucinex). These medications can help loosen mucus and make it easier to cough up.\n",
      "It's important to note that while these medications can help relieve symptoms, they do not cure the common cold, which is caused by a virus. Most cases of the common cold resolve on their own within a few days to a week. If your symptoms are severe or persist for more than a\n",
      "{'text': 'what are the best medications used against chickenpox?', 'func': 'chat'}\n",
      "what are the best medications used against chickenpox?\n",
      "chat\n"
     ]
    },
    {
     "name": "stderr",
     "output_type": "stream",
     "text": [
      "127.0.0.1 - - [04/Dec/2023 12:13:52] \"POST /process HTTP/1.1\" 200 -\n"
     ]
    },
    {
     "name": "stdout",
     "output_type": "stream",
     "text": [
      "Response from Model:  Since chickenpox is caused by the varicella-zoster virus, antiviral medications can be used to treat it. The most commonly prescribed antiviral for chickenpox is acyclovir (Zovirax). It's effective in reducing the severity and duration of symptoms if taken within 24 to 48 hours of the rash onset. Valacyclovir (Valtrex) and famciclovir (Famvir) are alternative antiviral options. These medications are typically recommended for people with a higher risk of complications, such as adults, pregnant women, and those with weakened immune systems. They can help reduce the risk of severe infection and related complications. Over-the-counter medications like acetaminophen or ibuprofen can be used to manage fever and pain associated with chickenpox. It's important to follow the dosing instructions provided by your healthcare provider and to stay hydrated during the course of the illness.\n",
      "{'text': 'what are the best medications used against viral fever?', 'func': 'chat'}\n",
      "what are the best medications used against viral fever?\n",
      "chat\n"
     ]
    },
    {
     "name": "stderr",
     "output_type": "stream",
     "text": [
      "127.0.0.1 - - [04/Dec/2023 12:14:20] \"POST /process HTTP/1.1\" 200 -\n"
     ]
    },
    {
     "name": "stdout",
     "output_type": "stream",
     "text": [
      "Response from Model:  There are several antiviral medications available to treat viral fevers, depending on the specific virus causing the infection. Some commonly used antiviral medications include:\n",
      "\n",
      "Oseltamivir (Tamiflu): This medication is used to treat influenza (the flu). It's effective against both influenza A and B viruses.\n",
      "\n",
      "Zanamivir (Relenza): Another antiviral medication for influenza, zanamivir is administered via an inhaler.\n",
      "\n",
      "Peramivir (Rapivab): This intravenous (IV) medication is used to treat severe influenza cases, particularly in hospitalized patients.\n",
      "\n",
      "Valacyclovir (Valtrex) and Acyclovir (Zovirax): These antiviral medications are used to treat herpes simplex virus (HSV) infections, including oral herpes (cold sores) and genital herpes.\n",
      "\n",
      "Famciclovir (Famvir) and Valacyclovir (Valtrex): These medications are effective against varicella-zoster virus (VZV), which causes chickenpox and shingles.\n",
      "\n",
      "Ribavirin: Ribavirin is used in combination with other antiviral medications to treat hepatitis C.\n",
      "\n",
      "Entecavir (Baraclude) and Tenofovir (Viread): These antiviral medications are used to treat chronic hepatitis B.\n",
      "\n",
      "Sofosbuvir (Sovaldi),\n",
      "{'text': 'C:\\\\Users\\\\k0nv1ct\\\\source\\\\repos\\\\hcl-medicator\\\\hcl-medicator\\\\App_Data\\\\uploads\\\\sample-2.jpg', 'func': 'image'}\n",
      "C:\\Users\\k0nv1ct\\source\\repos\\hcl-medicator\\hcl-medicator\\App_Data\\uploads\\sample-2.jpg\n",
      "image\n"
     ]
    },
    {
     "name": "stderr",
     "output_type": "stream",
     "text": [
      "C:\\Users\\k0nv1ct\\AppData\\Local\\Temp\\ipykernel_5448\\4229818786.py:11: FutureWarning: The frame.append method is deprecated and will be removed from pandas in a future version. Use pandas.concat instead.\n",
      "  df = df.append(\n",
      "C:\\Users\\k0nv1ct\\AppData\\Local\\Temp\\ipykernel_5448\\4229818786.py:11: FutureWarning: The frame.append method is deprecated and will be removed from pandas in a future version. Use pandas.concat instead.\n",
      "  df = df.append(\n",
      "C:\\Users\\k0nv1ct\\AppData\\Local\\Temp\\ipykernel_5448\\4229818786.py:11: FutureWarning: The frame.append method is deprecated and will be removed from pandas in a future version. Use pandas.concat instead.\n",
      "  df = df.append(\n",
      "C:\\Users\\k0nv1ct\\AppData\\Local\\Temp\\ipykernel_5448\\4229818786.py:11: FutureWarning: The frame.append method is deprecated and will be removed from pandas in a future version. Use pandas.concat instead.\n",
      "  df = df.append(\n",
      "C:\\Users\\k0nv1ct\\AppData\\Local\\Temp\\ipykernel_5448\\4229818786.py:11: FutureWarning: The frame.append method is deprecated and will be removed from pandas in a future version. Use pandas.concat instead.\n",
      "  df = df.append(\n",
      "C:\\Users\\k0nv1ct\\AppData\\Local\\Temp\\ipykernel_5448\\4229818786.py:11: FutureWarning: The frame.append method is deprecated and will be removed from pandas in a future version. Use pandas.concat instead.\n",
      "  df = df.append(\n",
      "127.0.0.1 - - [04/Dec/2023 12:21:30] \"POST /process HTTP/1.1\" 200 -\n"
     ]
    },
    {
     "name": "stdout",
     "output_type": "stream",
     "text": [
      "Asprin, paracetamol, Calpol\n",
      "{'text': 'what are the best medications used against common cold?', 'func': 'chat'}\n",
      "what are the best medications used against common cold?\n",
      "chat\n"
     ]
    },
    {
     "name": "stderr",
     "output_type": "stream",
     "text": [
      "127.0.0.1 - - [04/Dec/2023 12:23:23] \"POST /process HTTP/1.1\" 200 -\n"
     ]
    },
    {
     "name": "stdout",
     "output_type": "stream",
     "text": [
      "Response from Model:  Here are some common medications used to relieve symptoms of the common cold:\n",
      "\n",
      "* **Decongestants:** These medications help reduce swelling and congestion in the nose and sinuses. Examples include pseudoephedrine (Sudafed) and phenylephrine (Sudafed PE).\n",
      "\n",
      "\n",
      "* **Antihistamines:** These medications help relieve sneezing, runny nose, and itchy, watery eyes. Examples include diphenhydramine (Benadryl), loratadine (Claritin), and cetirizine (Zyrtec).\n",
      "\n",
      "\n",
      "* **Pain relievers:** These medications help reduce fever, headaches, and muscle aches. Examples include acetaminophen (Tylenol) and ibuprofen (Advil, Motrin).\n",
      "\n",
      "\n",
      "* **Cough suppressants:** These medications help reduce the frequency and severity of coughs. Examples include dextromethorphan (Robitussin) and codeine.\n",
      "\n",
      "\n",
      "* **Expectorants:** These medications help loosen mucus and make it easier to cough up. Examples include guaifenesin (Mucinex) and terpin hydrate (Pertussin).\n",
      "\n",
      "It's essential to follow the dosing instructions on the medication label and consult a healthcare professional if symptoms persist or worsen. Additionally, some medications may have side effects, so it's important\n",
      "{'text': 'what are the best medications used against chikenpox?', 'func': 'chat'}\n",
      "what are the best medications used against chikenpox?\n",
      "chat\n"
     ]
    },
    {
     "name": "stderr",
     "output_type": "stream",
     "text": [
      "127.0.0.1 - - [04/Dec/2023 12:23:56] \"POST /process HTTP/1.1\" 200 -\n"
     ]
    },
    {
     "name": "stdout",
     "output_type": "stream",
     "text": [
      "Response from Model:  There are no specific antiviral medications for chickenpox (varicella-zoster virus). Treatment focuses on relieving symptoms and preventing complications. Medications that may be used include:\n",
      "\n",
      "- Antihistamines: To relieve itching \n",
      "\n",
      "- Calamine lotion or oatmeal baths: To help soothe the skin \n",
      "\n",
      "- Acetaminophen (Tylenol) or ibuprofen (Advil, Motrin): To reduce fever and relieve pain \n",
      "\n",
      "- Acyclovir (Zovirax) or valacyclovir (Valtrex): Antiviral medications that may be prescribed in certain cases, such as individuals with a weakened immune system or those at high risk of complications. \n",
      "\n",
      "- It's important to follow the healthcare provider's instructions and complete the full course of medication, if prescribed, to promote healing and reduce the risk of complications.\n",
      "{'text': 'what are the best medications used against viral fever?', 'func': 'chat'}\n",
      "what are the best medications used against viral fever?\n",
      "chat\n"
     ]
    },
    {
     "name": "stderr",
     "output_type": "stream",
     "text": [
      "127.0.0.1 - - [04/Dec/2023 12:24:18] \"POST /process HTTP/1.1\" 200 -\n"
     ]
    },
    {
     "name": "stdout",
     "output_type": "stream",
     "text": [
      "Response from Model:  There are several effective antiviral medications available to treat viral fevers, depending on the specific virus causing the infection. Here are some commonly used antiviral medications:\n",
      "\n",
      "Oseltamivir (Tamiflu): This medication is used to treat influenza (the flu). It's effective against both influenza A and B viruses. Tamiflu is available in capsule and liquid form and is typically taken twice a day for five days. It's most effective when started within 48 hours of the onset of symptoms.\n",
      "\n",
      "Zanamivir (Relenza): Another antiviral medication for influenza, Relenza is available as an inhaler and is taken twice a day for five days. Like Tamiflu, it's most effective when started early in the course of the illness.\n",
      "\n",
      "Peramivir (Rapivab): This intravenous (IV) antiviral medication is used to treat severe influenza in hospitalized patients. It's typically given once or twice daily for five days.\n",
      "\n",
      "Ribavirin: Ribavirin is an antiviral medication used to treat respiratory syncytial virus (RSV) infection, particularly in infants and young children. It's usually given in combination with other medications and requires close monitoring due to potential side effects.\n",
      "\n",
      "Acyclovir (Zovirax): Acyclo\n",
      "{'text': 'C:\\\\Users\\\\k0nv1ct\\\\source\\\\repos\\\\hcl-medicator\\\\hcl-medicator\\\\App_Data\\\\uploads\\\\img.png', 'func': 'image'}\n",
      "C:\\Users\\k0nv1ct\\source\\repos\\hcl-medicator\\hcl-medicator\\App_Data\\uploads\\img.png\n",
      "image\n"
     ]
    },
    {
     "name": "stderr",
     "output_type": "stream",
     "text": [
      "C:\\Users\\k0nv1ct\\AppData\\Local\\Temp\\ipykernel_5448\\4229818786.py:11: FutureWarning: The frame.append method is deprecated and will be removed from pandas in a future version. Use pandas.concat instead.\n",
      "  df = df.append(\n",
      "C:\\Users\\k0nv1ct\\AppData\\Local\\Temp\\ipykernel_5448\\4229818786.py:11: FutureWarning: The frame.append method is deprecated and will be removed from pandas in a future version. Use pandas.concat instead.\n",
      "  df = df.append(\n",
      "C:\\Users\\k0nv1ct\\AppData\\Local\\Temp\\ipykernel_5448\\4229818786.py:11: FutureWarning: The frame.append method is deprecated and will be removed from pandas in a future version. Use pandas.concat instead.\n",
      "  df = df.append(\n",
      "C:\\Users\\k0nv1ct\\AppData\\Local\\Temp\\ipykernel_5448\\4229818786.py:11: FutureWarning: The frame.append method is deprecated and will be removed from pandas in a future version. Use pandas.concat instead.\n",
      "  df = df.append(\n",
      "C:\\Users\\k0nv1ct\\AppData\\Local\\Temp\\ipykernel_5448\\4229818786.py:11: FutureWarning: The frame.append method is deprecated and will be removed from pandas in a future version. Use pandas.concat instead.\n",
      "  df = df.append(\n",
      "C:\\Users\\k0nv1ct\\AppData\\Local\\Temp\\ipykernel_5448\\4229818786.py:11: FutureWarning: The frame.append method is deprecated and will be removed from pandas in a future version. Use pandas.concat instead.\n",
      "  df = df.append(\n",
      "C:\\Users\\k0nv1ct\\AppData\\Local\\Temp\\ipykernel_5448\\4229818786.py:11: FutureWarning: The frame.append method is deprecated and will be removed from pandas in a future version. Use pandas.concat instead.\n",
      "  df = df.append(\n",
      "C:\\Users\\k0nv1ct\\AppData\\Local\\Temp\\ipykernel_5448\\4229818786.py:11: FutureWarning: The frame.append method is deprecated and will be removed from pandas in a future version. Use pandas.concat instead.\n",
      "  df = df.append(\n",
      "C:\\Users\\k0nv1ct\\AppData\\Local\\Temp\\ipykernel_5448\\4229818786.py:11: FutureWarning: The frame.append method is deprecated and will be removed from pandas in a future version. Use pandas.concat instead.\n",
      "  df = df.append(\n",
      "C:\\Users\\k0nv1ct\\AppData\\Local\\Temp\\ipykernel_5448\\4229818786.py:11: FutureWarning: The frame.append method is deprecated and will be removed from pandas in a future version. Use pandas.concat instead.\n",
      "  df = df.append(\n",
      "C:\\Users\\k0nv1ct\\AppData\\Local\\Temp\\ipykernel_5448\\4229818786.py:11: FutureWarning: The frame.append method is deprecated and will be removed from pandas in a future version. Use pandas.concat instead.\n",
      "  df = df.append(\n",
      "C:\\Users\\k0nv1ct\\AppData\\Local\\Temp\\ipykernel_5448\\4229818786.py:11: FutureWarning: The frame.append method is deprecated and will be removed from pandas in a future version. Use pandas.concat instead.\n",
      "  df = df.append(\n",
      "C:\\Users\\k0nv1ct\\AppData\\Local\\Temp\\ipykernel_5448\\4229818786.py:11: FutureWarning: The frame.append method is deprecated and will be removed from pandas in a future version. Use pandas.concat instead.\n",
      "  df = df.append(\n",
      "C:\\Users\\k0nv1ct\\AppData\\Local\\Temp\\ipykernel_5448\\4229818786.py:11: FutureWarning: The frame.append method is deprecated and will be removed from pandas in a future version. Use pandas.concat instead.\n",
      "  df = df.append(\n",
      "C:\\Users\\k0nv1ct\\AppData\\Local\\Temp\\ipykernel_5448\\4229818786.py:11: FutureWarning: The frame.append method is deprecated and will be removed from pandas in a future version. Use pandas.concat instead.\n",
      "  df = df.append(\n",
      "C:\\Users\\k0nv1ct\\AppData\\Local\\Temp\\ipykernel_5448\\4229818786.py:11: FutureWarning: The frame.append method is deprecated and will be removed from pandas in a future version. Use pandas.concat instead.\n",
      "  df = df.append(\n",
      "C:\\Users\\k0nv1ct\\AppData\\Local\\Temp\\ipykernel_5448\\4229818786.py:11: FutureWarning: The frame.append method is deprecated and will be removed from pandas in a future version. Use pandas.concat instead.\n",
      "  df = df.append(\n",
      "C:\\Users\\k0nv1ct\\AppData\\Local\\Temp\\ipykernel_5448\\4229818786.py:11: FutureWarning: The frame.append method is deprecated and will be removed from pandas in a future version. Use pandas.concat instead.\n",
      "  df = df.append(\n",
      "C:\\Users\\k0nv1ct\\AppData\\Local\\Temp\\ipykernel_5448\\4229818786.py:11: FutureWarning: The frame.append method is deprecated and will be removed from pandas in a future version. Use pandas.concat instead.\n",
      "  df = df.append(\n",
      "C:\\Users\\k0nv1ct\\AppData\\Local\\Temp\\ipykernel_5448\\4229818786.py:11: FutureWarning: The frame.append method is deprecated and will be removed from pandas in a future version. Use pandas.concat instead.\n",
      "  df = df.append(\n",
      "C:\\Users\\k0nv1ct\\AppData\\Local\\Temp\\ipykernel_5448\\4229818786.py:11: FutureWarning: The frame.append method is deprecated and will be removed from pandas in a future version. Use pandas.concat instead.\n",
      "  df = df.append(\n",
      "C:\\Users\\k0nv1ct\\AppData\\Local\\Temp\\ipykernel_5448\\4229818786.py:11: FutureWarning: The frame.append method is deprecated and will be removed from pandas in a future version. Use pandas.concat instead.\n",
      "  df = df.append(\n",
      "127.0.0.1 - - [04/Dec/2023 12:36:46] \"POST /process HTTP/1.1\" 200 -\n"
     ]
    },
    {
     "name": "stdout",
     "output_type": "stream",
     "text": [
      "image=vision_v1.types. Image (content= content)\n",
      "response = client.text_detection (image=image)\n",
      "texts = response.text_annotations\n"
     ]
    }
   ],
   "source": [
    "from flask import Flask, request, jsonify\n",
    "app = Flask(__name__)\n",
    "\n",
    "@app.route('/process', methods=['POST'])\n",
    "def process_data():\n",
    "    data = request.json\n",
    "    received_string = data['text']\n",
    "    print(data)\n",
    "    print(received_string)\n",
    "    print(data['func'])\n",
    "    \n",
    "    if data['func'] == \"chat\":\n",
    "        message = received_string\n",
    "        result_string = chat_bot(message)\n",
    "    elif data['func'] == \"image\":\n",
    "        result_string = detectText(received_string)\n",
    "        print(result_string)\n",
    "\n",
    "    return jsonify({'result': result_string})\n",
    "\n",
    "if __name__ == '__main__':\n",
    "    app.run(port=5000)"
   ]
  },
  {
   "cell_type": "code",
   "execution_count": null,
   "metadata": {},
   "outputs": [],
   "source": []
  }
 ],
 "metadata": {
  "kernelspec": {
   "display_name": "Python 3",
   "language": "python",
   "name": "python3"
  },
  "language_info": {
   "codemirror_mode": {
    "name": "ipython",
    "version": 3
   },
   "file_extension": ".py",
   "mimetype": "text/x-python",
   "name": "python",
   "nbconvert_exporter": "python",
   "pygments_lexer": "ipython3",
   "version": "3.8.10"
  }
 },
 "nbformat": 4,
 "nbformat_minor": 2
}
